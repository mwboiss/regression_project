{
 "cells": [
  {
   "cell_type": "code",
   "execution_count": 54,
   "id": "b20465a8-f167-4a34-9808-4a89ba52dd5e",
   "metadata": {},
   "outputs": [],
   "source": [
    "# Import necessary libraries for data acquistion and prep\n",
    "import pandas as pd\n",
    "import numpy as np\n",
    "\n",
    "#Import for data viz\n",
    "import seaborn as sns\n",
    "import matplotlib.pyplot as plt\n",
    "\n",
    "# Import for data acquisition and prep\n",
    "import wrangle\n",
    "\n",
    "# import for split and scale\n",
    "from sklearn.model_selection import train_test_split\n",
    "from sklearn.preprocessing import MinMaxScaler\n",
    "\n",
    "# Import for Feature engineering\n",
    "from sklearn.feature_selection import SelectKBest, f_regression, RFE\n",
    "import statsmodels.api as sm\n",
    "from sklearn.linear_model import LassoCV, MultiTaskLassoCV\n",
    "\n",
    "# Import models\n",
    "from sklearn.linear_model import LinearRegression, LassoLars, TweedieRegressor\n",
    "from sklearn.preprocessing import PolynomialFeatures\n",
    "from sklearn.neighbors import KNeighborsRegressor,LocalOutlierFactor\n",
    "\n",
    "# Import for model evaluation\n",
    "from sklearn.metrics import mean_squared_error, r2_score, explained_variance_score\n",
    "from math import sqrt\n",
    "\n",
    "# Set display options so that we can view all the data\n",
    "pd.options.display.max_columns = None\n",
    "pd.options.display.max_rows = None\n",
    "\n",
    "import warnings\n",
    "warnings.filterwarnings('ignore')"
   ]
  },
  {
   "cell_type": "markdown",
   "id": "5be4bfd0-a833-4b51-95cf-98a3defd04d2",
   "metadata": {
    "jp-MarkdownHeadingCollapsed": true,
    "tags": []
   },
   "source": [
    "# Acquire"
   ]
  },
  {
   "cell_type": "code",
   "execution_count": 2,
   "id": "9ef61991-8bcf-4bca-8764-228505bfaf5d",
   "metadata": {
    "tags": []
   },
   "outputs": [],
   "source": [
    "# Create function for acquisition and copy to wrangle.py for further use\n",
    "# def get_zillow_data(use_cache=True):\n",
    "#     '''\n",
    "#     This functions recieves a boolean as input to see if the user wants to recieve a fresh copy from the database.\n",
    "#     Then the fucntion checks to see if the file being requested already exists.\n",
    "#     Runs a query for the data using the assigned url.\n",
    "#     Creates a new csv if needed.\n",
    "#     Then returns the zillow dataframe.\n",
    "#     '''\n",
    "    \n",
    "#     # Assign filename to csv for storage\n",
    "#     filename = 'zillow.csv'\n",
    "    \n",
    "#     # Check if file exists and if user wants a fresh copy from the database\n",
    "#     if os.path.exists(filename) and use_cache:\n",
    "#         print('Using cached csv file...')\n",
    "#         return pd.read_csv(filename)\n",
    "    \n",
    "#     # Notify user of next step\n",
    "#     print('Retrieving from database...')\n",
    "    \n",
    "#     # Assign url\n",
    "#     url = get_db_url('zillow')\n",
    "    \n",
    "#     # Run query for data\n",
    "#     zillow_data = pd.read_sql('''\n",
    "#     SELECT bedroomcnt,\\\n",
    "#     bathroomcnt,\\\n",
    "#     calculatedfinishedsquarefeet,\\\n",
    "#     taxvaluedollarcnt,\\\n",
    "#     yearbuilt,\\\n",
    "#     fips,\\\n",
    "#     FROM properties_2017\n",
    "#     JOIN predictions_2017\n",
    "#     USING(parcelid)\n",
    "#     JOIN propertylandusetype\n",
    "#     USING(propertylandusetypeid)\n",
    "#     WHERE propertylandusetypeid = 261 \n",
    "#     ''', url)\n",
    "    \n",
    "#     # Notify user of next step\n",
    "#     print('Saving new csv...')\n",
    "    \n",
    "#     # Create csv\n",
    "#     zillow_data.to_csv(filename, index=False)\n",
    "    \n",
    "#     # Return DataFrame\n",
    "#     return zillow_data"
   ]
  },
  {
   "cell_type": "code",
   "execution_count": 55,
   "id": "e13051b6-7a1f-4db0-bd62-2a95b7de4c63",
   "metadata": {},
   "outputs": [
    {
     "name": "stdout",
     "output_type": "stream",
     "text": [
      "Using cached csv file...\n"
     ]
    },
    {
     "data": {
      "text/plain": [
       "(52442, 6)"
      ]
     },
     "execution_count": 55,
     "metadata": {},
     "output_type": "execute_result"
    }
   ],
   "source": [
    "# Test new function in wrangle.py and assign to dataframe\n",
    "zillow = wrangle.get_zillow_data()\n",
    "zillow.shape"
   ]
  },
  {
   "cell_type": "markdown",
   "id": "f79099cd-54b6-48fe-9a4a-870c9446f110",
   "metadata": {},
   "source": [
    "**Summarize**:"
   ]
  },
  {
   "cell_type": "code",
   "execution_count": 18,
   "id": "67fb98d2-9e3c-4592-b4c8-bf693d646f5b",
   "metadata": {},
   "outputs": [
    {
     "data": {
      "text/html": [
       "<div>\n",
       "<style scoped>\n",
       "    .dataframe tbody tr th:only-of-type {\n",
       "        vertical-align: middle;\n",
       "    }\n",
       "\n",
       "    .dataframe tbody tr th {\n",
       "        vertical-align: top;\n",
       "    }\n",
       "\n",
       "    .dataframe thead th {\n",
       "        text-align: right;\n",
       "    }\n",
       "</style>\n",
       "<table border=\"1\" class=\"dataframe\">\n",
       "  <thead>\n",
       "    <tr style=\"text-align: right;\">\n",
       "      <th></th>\n",
       "      <th>bedroomcnt</th>\n",
       "      <th>bathroomcnt</th>\n",
       "      <th>calculatedfinishedsquarefeet</th>\n",
       "      <th>taxvaluedollarcnt</th>\n",
       "      <th>yearbuilt</th>\n",
       "      <th>fips</th>\n",
       "    </tr>\n",
       "  </thead>\n",
       "  <tbody>\n",
       "    <tr>\n",
       "      <th>0</th>\n",
       "      <td>4.0</td>\n",
       "      <td>3.5</td>\n",
       "      <td>3100.0</td>\n",
       "      <td>1023282.0</td>\n",
       "      <td>1998.0</td>\n",
       "      <td>6059.0</td>\n",
       "    </tr>\n",
       "    <tr>\n",
       "      <th>1</th>\n",
       "      <td>2.0</td>\n",
       "      <td>1.0</td>\n",
       "      <td>1465.0</td>\n",
       "      <td>464000.0</td>\n",
       "      <td>1967.0</td>\n",
       "      <td>6111.0</td>\n",
       "    </tr>\n",
       "    <tr>\n",
       "      <th>2</th>\n",
       "      <td>3.0</td>\n",
       "      <td>2.0</td>\n",
       "      <td>1243.0</td>\n",
       "      <td>564778.0</td>\n",
       "      <td>1962.0</td>\n",
       "      <td>6059.0</td>\n",
       "    </tr>\n",
       "    <tr>\n",
       "      <th>3</th>\n",
       "      <td>4.0</td>\n",
       "      <td>3.0</td>\n",
       "      <td>2376.0</td>\n",
       "      <td>145143.0</td>\n",
       "      <td>1970.0</td>\n",
       "      <td>6037.0</td>\n",
       "    </tr>\n",
       "    <tr>\n",
       "      <th>4</th>\n",
       "      <td>4.0</td>\n",
       "      <td>3.0</td>\n",
       "      <td>2962.0</td>\n",
       "      <td>773303.0</td>\n",
       "      <td>1950.0</td>\n",
       "      <td>6037.0</td>\n",
       "    </tr>\n",
       "  </tbody>\n",
       "</table>\n",
       "</div>"
      ],
      "text/plain": [
       "   bedroomcnt  bathroomcnt  calculatedfinishedsquarefeet  taxvaluedollarcnt  \\\n",
       "0         4.0          3.5                        3100.0          1023282.0   \n",
       "1         2.0          1.0                        1465.0           464000.0   \n",
       "2         3.0          2.0                        1243.0           564778.0   \n",
       "3         4.0          3.0                        2376.0           145143.0   \n",
       "4         4.0          3.0                        2962.0           773303.0   \n",
       "\n",
       "   yearbuilt    fips  \n",
       "0     1998.0  6059.0  \n",
       "1     1967.0  6111.0  \n",
       "2     1962.0  6059.0  \n",
       "3     1970.0  6037.0  \n",
       "4     1950.0  6037.0  "
      ]
     },
     "execution_count": 18,
     "metadata": {},
     "output_type": "execute_result"
    }
   ],
   "source": [
    "zillow.head()"
   ]
  },
  {
   "cell_type": "code",
   "execution_count": 5,
   "id": "528cda99-f471-4e19-a713-894c920a3e13",
   "metadata": {},
   "outputs": [],
   "source": [
    "# Check Datatypes and nulls\n",
    "# zillow.info(null_counts=True)"
   ]
  },
  {
   "cell_type": "code",
   "execution_count": 6,
   "id": "59f120f0-897d-4512-bd01-bf2c529a8ce4",
   "metadata": {},
   "outputs": [],
   "source": [
    "# zillow.shape"
   ]
  },
  {
   "cell_type": "code",
   "execution_count": 7,
   "id": "3062f9a3-cd6a-43fc-9a44-eb4b33c04f0e",
   "metadata": {},
   "outputs": [],
   "source": [
    "# zillow.describe()"
   ]
  },
  {
   "cell_type": "code",
   "execution_count": 8,
   "id": "59833716-ffed-49f8-8b8e-ac7d14b105ef",
   "metadata": {},
   "outputs": [],
   "source": [
    "# for col in zillow.columns[zillow.dtypes=='float']:\n",
    "#     zillow[col].hist()\n",
    "#     plt.title(col)\n",
    "#     plt.show()"
   ]
  },
  {
   "cell_type": "code",
   "execution_count": 9,
   "id": "02bfb231-cdd7-4aac-82a3-2283358e0a80",
   "metadata": {},
   "outputs": [],
   "source": [
    "# for col in zillow.columns[zillow.dtypes=='float']:\n",
    "#     sns.boxplot(zillow[col])\n",
    "#     plt.title(col)\n",
    "#     plt.show()"
   ]
  },
  {
   "cell_type": "code",
   "execution_count": 10,
   "id": "22db4c34-f7c3-4981-9dff-023a9f0a18d3",
   "metadata": {},
   "outputs": [],
   "source": [
    "#zillow.transactiondate.value_counts()"
   ]
  },
  {
   "cell_type": "markdown",
   "id": "1082053f-b4f8-4839-9fd0-23dfb5eb30c1",
   "metadata": {},
   "source": [
    "- Summary: Lots of nulls and outliers, fips is only 3 numbers so is most likely categorical. Majority of bed and bath rooms are under 6"
   ]
  },
  {
   "cell_type": "markdown",
   "id": "244f40c0-f175-44ab-b74c-cded64180e43",
   "metadata": {
    "jp-MarkdownHeadingCollapsed": true,
    "tags": []
   },
   "source": [
    "# Prep"
   ]
  },
  {
   "cell_type": "code",
   "execution_count": null,
   "id": "0d849c40-1636-4411-a141-12238f88c61b",
   "metadata": {},
   "outputs": [],
   "source": [
    "# zillow.isnull().sum()"
   ]
  },
  {
   "cell_type": "code",
   "execution_count": null,
   "id": "ba9b6d12-4bcc-4bb6-b7cd-6808353964f1",
   "metadata": {},
   "outputs": [],
   "source": [
    "# Rename columns\n",
    "# zillow = zillow.rename(columns={'bedroomcnt' : 'bedrooms',\\\n",
    "#                             'bathroomcnt' : 'bathrooms',\\\n",
    "#                             'calculatedfinishedsquarefeet' : 'area',\\\n",
    "#                             'taxvaluedollarcnt' : 'taxable_value',\\\n",
    "#                             'yearbuilt' : 'year_built',\\\n",
    "#                             'fips' : 'county'})"
   ]
  },
  {
   "cell_type": "code",
   "execution_count": null,
   "id": "c27f916a-ab86-4a7c-9aff-bad23c8b373a",
   "metadata": {},
   "outputs": [],
   "source": [
    "# Drop Nulls\n",
    "# zillow = zillow.dropna()"
   ]
  },
  {
   "cell_type": "code",
   "execution_count": null,
   "id": "cedd9ae5-ae8d-4adf-a322-ee779970787a",
   "metadata": {},
   "outputs": [],
   "source": [
    "# Map county values to name of county\n",
    "# zillow.county = zillow.county.map({6037.0 : 'los_angeles_ca',\\\n",
    "#                                    6059.0 : 'orange_ca',\\\n",
    "#                                    6111.0 : 'ventura_ca'})"
   ]
  },
  {
   "cell_type": "code",
   "execution_count": null,
   "id": "53b50c9a-7781-40e2-b91c-26c40950d46b",
   "metadata": {},
   "outputs": [],
   "source": [
    "# Create a variable that shows the age of the house in 2017\n",
    "# zillow['house_age_2017'] = 2017 - zillow.year_built "
   ]
  },
  {
   "cell_type": "code",
   "execution_count": null,
   "id": "6627e562-22f1-4a7b-8d74-9029c529a0e6",
   "metadata": {},
   "outputs": [],
   "source": [
    "# One hot encode county \n",
    "\n",
    "# Get dummy variables\n",
    "# dummy_name = pd.get_dummies(zillow[['county']])\n",
    "\n",
    "# Concat dummy_name to dataframe\n",
    "# zillow = pd.concat([zillow,dummy_name],axis=1)"
   ]
  },
  {
   "cell_type": "code",
   "execution_count": null,
   "id": "3e4f15e8-bc3e-4211-a5ee-5790d4520de8",
   "metadata": {},
   "outputs": [],
   "source": [
    "# Create a variable that show the ratio of bedrooms to bathrooms\n",
    "# zillow['bed_to_bath_ratio'] = zillow.bedrooms / zillow.bathrooms\n",
    "# Replace infinite values with NaN to be dropped later\n",
    "# zillow = zillow.replace(np.inf, np.nan)"
   ]
  },
  {
   "cell_type": "code",
   "execution_count": null,
   "id": "744610f1-9f95-4b01-ae3c-622de46d505f",
   "metadata": {
    "tags": []
   },
   "outputs": [],
   "source": [
    "# Create into function and copy to wrangle.py for futher use\n",
    "# def prep_zillow(use_cache=True):\n",
    "#     '''\n",
    "#     function used to wrangle zillow data\n",
    "#     '''\n",
    "#     # Get Zillow data\n",
    "#     zillow = get_zillow_data(use_cache)\n",
    "        \n",
    "#     # Rename columns\n",
    "#     zillow = zillow.rename(columns={'bedroomcnt' : 'bedrooms',\\\n",
    "#                                 'bathroomcnt' : 'bathrooms',\\\n",
    "#                                 'calculatedfinishedsquarefeet' : 'area',\\\n",
    "#                                 'taxvaluedollarcnt' : 'taxable_value',\\\n",
    "#                                 'yearbuilt' : 'year_built',\\\n",
    "#                                 'fips' : 'county'})\n",
    "    \n",
    "#     # Create a variable that show the ratio of bedrooms to bathrooms\n",
    "#     zillow['bed_to_bath_ratio'] = zillow.bedrooms / zillow.bathrooms\n",
    "    \n",
    "#     # Replace infinite values with NaN to be dropped later\n",
    "#     zillow = zillow.replace(np.inf, np.nan)\n",
    "\n",
    "#     # Create a variable that shows the age of the house in 2017\n",
    "#     zillow['house_age_2017'] = 2017 - zillow.year_built \n",
    "\n",
    "#     # Drop Nulls\n",
    "#     zillow = zillow.dropna()\n",
    "    \n",
    "#     # Map county values to name of county\n",
    "#     zillow.county = zillow.county.map({6037.0 : 'los_angeles_ca',\\\n",
    "#                                        6059.0 : 'orange_ca',\\\n",
    "#                                        6111.0 : 'ventura_ca'})\n",
    "    \n",
    "#     # One hot encode county \n",
    "\n",
    "#     # Get dummy variables\n",
    "#     dummy_name = pd.get_dummies(zillow[['county']])\n",
    "\n",
    "#     # Concat dummy_name to dataframe\n",
    "#     zillow = pd.concat([zillow,dummy_name],axis=1)\n",
    "    \n",
    "#     return zillow"
   ]
  },
  {
   "cell_type": "code",
   "execution_count": 56,
   "id": "fec2f8d7-1c45-4728-88e5-5262308c7ffc",
   "metadata": {},
   "outputs": [
    {
     "data": {
      "text/html": [
       "<div>\n",
       "<style scoped>\n",
       "    .dataframe tbody tr th:only-of-type {\n",
       "        vertical-align: middle;\n",
       "    }\n",
       "\n",
       "    .dataframe tbody tr th {\n",
       "        vertical-align: top;\n",
       "    }\n",
       "\n",
       "    .dataframe thead th {\n",
       "        text-align: right;\n",
       "    }\n",
       "</style>\n",
       "<table border=\"1\" class=\"dataframe\">\n",
       "  <thead>\n",
       "    <tr style=\"text-align: right;\">\n",
       "      <th></th>\n",
       "      <th>bedrooms</th>\n",
       "      <th>bathrooms</th>\n",
       "      <th>area</th>\n",
       "      <th>taxable_value</th>\n",
       "      <th>year_built</th>\n",
       "      <th>county</th>\n",
       "      <th>house_age_2017</th>\n",
       "      <th>bed_to_bath_ratio</th>\n",
       "      <th>county_los_angeles_ca</th>\n",
       "      <th>county_orange_ca</th>\n",
       "      <th>county_ventura_ca</th>\n",
       "    </tr>\n",
       "  </thead>\n",
       "  <tbody>\n",
       "    <tr>\n",
       "      <th>0</th>\n",
       "      <td>4.0</td>\n",
       "      <td>3.5</td>\n",
       "      <td>3100.0</td>\n",
       "      <td>1023282.0</td>\n",
       "      <td>1998.0</td>\n",
       "      <td>orange_ca</td>\n",
       "      <td>19.0</td>\n",
       "      <td>1.142857</td>\n",
       "      <td>0</td>\n",
       "      <td>1</td>\n",
       "      <td>0</td>\n",
       "    </tr>\n",
       "    <tr>\n",
       "      <th>1</th>\n",
       "      <td>2.0</td>\n",
       "      <td>1.0</td>\n",
       "      <td>1465.0</td>\n",
       "      <td>464000.0</td>\n",
       "      <td>1967.0</td>\n",
       "      <td>ventura_ca</td>\n",
       "      <td>50.0</td>\n",
       "      <td>2.000000</td>\n",
       "      <td>0</td>\n",
       "      <td>0</td>\n",
       "      <td>1</td>\n",
       "    </tr>\n",
       "    <tr>\n",
       "      <th>2</th>\n",
       "      <td>3.0</td>\n",
       "      <td>2.0</td>\n",
       "      <td>1243.0</td>\n",
       "      <td>564778.0</td>\n",
       "      <td>1962.0</td>\n",
       "      <td>orange_ca</td>\n",
       "      <td>55.0</td>\n",
       "      <td>1.500000</td>\n",
       "      <td>0</td>\n",
       "      <td>1</td>\n",
       "      <td>0</td>\n",
       "    </tr>\n",
       "    <tr>\n",
       "      <th>3</th>\n",
       "      <td>4.0</td>\n",
       "      <td>3.0</td>\n",
       "      <td>2376.0</td>\n",
       "      <td>145143.0</td>\n",
       "      <td>1970.0</td>\n",
       "      <td>los_angeles_ca</td>\n",
       "      <td>47.0</td>\n",
       "      <td>1.333333</td>\n",
       "      <td>1</td>\n",
       "      <td>0</td>\n",
       "      <td>0</td>\n",
       "    </tr>\n",
       "    <tr>\n",
       "      <th>4</th>\n",
       "      <td>4.0</td>\n",
       "      <td>3.0</td>\n",
       "      <td>2962.0</td>\n",
       "      <td>773303.0</td>\n",
       "      <td>1950.0</td>\n",
       "      <td>los_angeles_ca</td>\n",
       "      <td>67.0</td>\n",
       "      <td>1.333333</td>\n",
       "      <td>1</td>\n",
       "      <td>0</td>\n",
       "      <td>0</td>\n",
       "    </tr>\n",
       "  </tbody>\n",
       "</table>\n",
       "</div>"
      ],
      "text/plain": [
       "   bedrooms  bathrooms    area  taxable_value  year_built          county  \\\n",
       "0       4.0        3.5  3100.0      1023282.0      1998.0       orange_ca   \n",
       "1       2.0        1.0  1465.0       464000.0      1967.0      ventura_ca   \n",
       "2       3.0        2.0  1243.0       564778.0      1962.0       orange_ca   \n",
       "3       4.0        3.0  2376.0       145143.0      1970.0  los_angeles_ca   \n",
       "4       4.0        3.0  2962.0       773303.0      1950.0  los_angeles_ca   \n",
       "\n",
       "   house_age_2017  bed_to_bath_ratio  county_los_angeles_ca  county_orange_ca  \\\n",
       "0            19.0           1.142857                      0                 1   \n",
       "1            50.0           2.000000                      0                 0   \n",
       "2            55.0           1.500000                      0                 1   \n",
       "3            47.0           1.333333                      1                 0   \n",
       "4            67.0           1.333333                      1                 0   \n",
       "\n",
       "   county_ventura_ca  \n",
       "0                  0  \n",
       "1                  1  \n",
       "2                  0  \n",
       "3                  0  \n",
       "4                  0  "
      ]
     },
     "execution_count": 56,
     "metadata": {},
     "output_type": "execute_result"
    }
   ],
   "source": [
    "# Test wrangle.py function and assign to dataframe\n",
    "zillow = wrangle.prep_zillow(zillow)\n",
    "zillow.head()"
   ]
  },
  {
   "cell_type": "markdown",
   "id": "2b3915d3-fb0e-4b35-8eec-5d58f9b3ac79",
   "metadata": {},
   "source": [
    "- Summary: fips is a county code. Names were changed and nulls were dropped."
   ]
  },
  {
   "cell_type": "markdown",
   "id": "98d87f57-cdb2-4f99-b7c0-3e50b2033eb5",
   "metadata": {
    "jp-MarkdownHeadingCollapsed": true,
    "tags": []
   },
   "source": [
    "# Outliers"
   ]
  },
  {
   "cell_type": "code",
   "execution_count": 11,
   "id": "8de3f92c-49f4-4cb6-b1d0-b89b826899e5",
   "metadata": {},
   "outputs": [],
   "source": [
    "# zillow.describe()"
   ]
  },
  {
   "cell_type": "code",
   "execution_count": 15,
   "id": "9e1b3f45-4949-4759-8d1e-7eae73c0ef9f",
   "metadata": {},
   "outputs": [],
   "source": [
    "# fig, ax = plt.subplots(ncols=5, sharey=True, sharex=True, figsize=(30,10))\n",
    "# sns.boxplot(x='bedroomcnt', data=zillow, ax=ax[0])\n",
    "# sns.boxplot(x='bathroomcnt', data=zillow, ax=ax[1])\n",
    "# sns.boxplot(x='yearbuilt', data=zillow, ax=ax[2])\n",
    "# sns.boxplot(x='calculatedfinishedsquarefeet', data=zillow, ax=ax[3])\n",
    "# sns.boxplot(x='taxvaluedollarcnt', data=zillow, ax=ax[4])\n",
    "# plt.show()"
   ]
  },
  {
   "cell_type": "markdown",
   "id": "aca54e8a-a5a0-4599-a7ed-cd4da5728762",
   "metadata": {},
   "source": [
    "Lots of outliers. Biggest range in taxable_value but they all have it."
   ]
  },
  {
   "cell_type": "code",
   "execution_count": 13,
   "id": "52da55d9-3a2d-42e8-b362-bc59fac49b01",
   "metadata": {},
   "outputs": [],
   "source": [
    "# def remove_outliers(df, column_list):\n",
    "#     ''' remove outliers from dataframe \n",
    "#         then return that dataframe\n",
    "#     '''\n",
    "#     # Iterate through column_list\n",
    "#     for col in column_list:\n",
    "        \n",
    "#         # find percentiles\n",
    "#         q_25 = np.percentile(df[col], 25)\n",
    "#         q_75 = np.percentile(df[col], 75)\n",
    "        \n",
    "#         # Calculate IQR\n",
    "#         iqr = q_75 - q_25\n",
    "        \n",
    "#         # assign upper bound\n",
    "#         upper_bound = q_75 + 1.5 * iqr   \n",
    "        \n",
    "#         # assign lower bound \n",
    "#         lower_bound = q_25 - 1.5 * iqr   \n",
    "\n",
    "#         # assign df without outliers\n",
    "#         df = df[(df[col] > lower_bound) & (df[col] < upper_bound)]\n",
    "        \n",
    "#     # return dataframe without outliers    \n",
    "#     return df"
   ]
  },
  {
   "cell_type": "code",
   "execution_count": 57,
   "id": "bb507917-4b6c-464d-bc23-1cef41f13e8d",
   "metadata": {},
   "outputs": [
    {
     "data": {
      "text/plain": [
       "(41484, 11)"
      ]
     },
     "execution_count": 57,
     "metadata": {},
     "output_type": "execute_result"
    }
   ],
   "source": [
    "zillow = wrangle.remove_outliers(zillow, ['bedrooms','bathrooms','year_built','area','taxable_value','house_age_2017','bed_to_bath_ratio'])\n",
    "zillow.shape"
   ]
  },
  {
   "cell_type": "markdown",
   "id": "33c654b8-a95b-4b6f-bb8c-540b9c23968b",
   "metadata": {
    "jp-MarkdownHeadingCollapsed": true,
    "tags": []
   },
   "source": [
    "# Split"
   ]
  },
  {
   "cell_type": "code",
   "execution_count": 23,
   "id": "bdaf7248-a225-409c-8f63-91579b54f2da",
   "metadata": {},
   "outputs": [],
   "source": [
    "# Values are split into train, validate, split for further exploratation\n",
    "# train_validate, test = train_test_split(zillow, random_state=1729, test_size=0.2)\n",
    "# train, validate = train_test_split(train_validate, random_state=1729, test_size=0.2)"
   ]
  },
  {
   "cell_type": "code",
   "execution_count": 24,
   "id": "0de4c2f1-5ab7-4785-a3c4-01361afd0196",
   "metadata": {
    "tags": []
   },
   "outputs": [],
   "source": [
    "# Create function to split data and copy to wrangle.py for further use\n",
    "# def split_zillow(df):\n",
    "#     '''\n",
    "#     This funciton splits the dataset for modeling into:\n",
    "#     train - for exploring the data, and fitting the models\n",
    "#     validate - for ensuring the model is not overfit\n",
    "#     test - for testing the model on unseen data\n",
    "#     '''\n",
    "#     # This seperates out the test data from the train and validate data. Test makes up 20 % of the data.\n",
    "#     train_validate, test = train_test_split(zillow, random_state=1729, test_size=0.2)\n",
    "    \n",
    "#     # This seperates out the train and validates sets. Train makes up 56 % of the data and Validate makes up 24 %.\n",
    "#     train, validate = train_test_split(train_validate, random_state=1729, test_size=0.3)\n",
    "    \n",
    "#     # The funciton returns the split sets\n",
    "#     return train, validate, test"
   ]
  },
  {
   "cell_type": "code",
   "execution_count": 58,
   "id": "86edc94c-4ed9-4626-bfd8-6ed70e10bc9f",
   "metadata": {},
   "outputs": [
    {
     "data": {
      "text/html": [
       "<div>\n",
       "<style scoped>\n",
       "    .dataframe tbody tr th:only-of-type {\n",
       "        vertical-align: middle;\n",
       "    }\n",
       "\n",
       "    .dataframe tbody tr th {\n",
       "        vertical-align: top;\n",
       "    }\n",
       "\n",
       "    .dataframe thead th {\n",
       "        text-align: right;\n",
       "    }\n",
       "</style>\n",
       "<table border=\"1\" class=\"dataframe\">\n",
       "  <thead>\n",
       "    <tr style=\"text-align: right;\">\n",
       "      <th></th>\n",
       "      <th>bedrooms</th>\n",
       "      <th>bathrooms</th>\n",
       "      <th>area</th>\n",
       "      <th>taxable_value</th>\n",
       "      <th>year_built</th>\n",
       "      <th>county</th>\n",
       "      <th>house_age_2017</th>\n",
       "      <th>bed_to_bath_ratio</th>\n",
       "      <th>county_los_angeles_ca</th>\n",
       "      <th>county_orange_ca</th>\n",
       "      <th>county_ventura_ca</th>\n",
       "    </tr>\n",
       "  </thead>\n",
       "  <tbody>\n",
       "    <tr>\n",
       "      <th>24182</th>\n",
       "      <td>3.0</td>\n",
       "      <td>3.0</td>\n",
       "      <td>2439.0</td>\n",
       "      <td>316700.0</td>\n",
       "      <td>1988.0</td>\n",
       "      <td>los_angeles_ca</td>\n",
       "      <td>29.0</td>\n",
       "      <td>1.00</td>\n",
       "      <td>1</td>\n",
       "      <td>0</td>\n",
       "      <td>0</td>\n",
       "    </tr>\n",
       "    <tr>\n",
       "      <th>37682</th>\n",
       "      <td>3.0</td>\n",
       "      <td>2.0</td>\n",
       "      <td>1202.0</td>\n",
       "      <td>153066.0</td>\n",
       "      <td>1973.0</td>\n",
       "      <td>orange_ca</td>\n",
       "      <td>44.0</td>\n",
       "      <td>1.50</td>\n",
       "      <td>0</td>\n",
       "      <td>1</td>\n",
       "      <td>0</td>\n",
       "    </tr>\n",
       "    <tr>\n",
       "      <th>1666</th>\n",
       "      <td>3.0</td>\n",
       "      <td>2.0</td>\n",
       "      <td>1407.0</td>\n",
       "      <td>82563.0</td>\n",
       "      <td>1964.0</td>\n",
       "      <td>orange_ca</td>\n",
       "      <td>53.0</td>\n",
       "      <td>1.50</td>\n",
       "      <td>0</td>\n",
       "      <td>1</td>\n",
       "      <td>0</td>\n",
       "    </tr>\n",
       "    <tr>\n",
       "      <th>41060</th>\n",
       "      <td>2.0</td>\n",
       "      <td>1.0</td>\n",
       "      <td>708.0</td>\n",
       "      <td>158210.0</td>\n",
       "      <td>1948.0</td>\n",
       "      <td>orange_ca</td>\n",
       "      <td>69.0</td>\n",
       "      <td>2.00</td>\n",
       "      <td>0</td>\n",
       "      <td>1</td>\n",
       "      <td>0</td>\n",
       "    </tr>\n",
       "    <tr>\n",
       "      <th>39531</th>\n",
       "      <td>5.0</td>\n",
       "      <td>4.0</td>\n",
       "      <td>2296.0</td>\n",
       "      <td>206128.0</td>\n",
       "      <td>1958.0</td>\n",
       "      <td>los_angeles_ca</td>\n",
       "      <td>59.0</td>\n",
       "      <td>1.25</td>\n",
       "      <td>1</td>\n",
       "      <td>0</td>\n",
       "      <td>0</td>\n",
       "    </tr>\n",
       "  </tbody>\n",
       "</table>\n",
       "</div>"
      ],
      "text/plain": [
       "       bedrooms  bathrooms    area  taxable_value  year_built          county  \\\n",
       "24182       3.0        3.0  2439.0       316700.0      1988.0  los_angeles_ca   \n",
       "37682       3.0        2.0  1202.0       153066.0      1973.0       orange_ca   \n",
       "1666        3.0        2.0  1407.0        82563.0      1964.0       orange_ca   \n",
       "41060       2.0        1.0   708.0       158210.0      1948.0       orange_ca   \n",
       "39531       5.0        4.0  2296.0       206128.0      1958.0  los_angeles_ca   \n",
       "\n",
       "       house_age_2017  bed_to_bath_ratio  county_los_angeles_ca  \\\n",
       "24182            29.0               1.00                      1   \n",
       "37682            44.0               1.50                      0   \n",
       "1666             53.0               1.50                      0   \n",
       "41060            69.0               2.00                      0   \n",
       "39531            59.0               1.25                      1   \n",
       "\n",
       "       county_orange_ca  county_ventura_ca  \n",
       "24182                 0                  0  \n",
       "37682                 1                  0  \n",
       "1666                  1                  0  \n",
       "41060                 1                  0  \n",
       "39531                 0                  0  "
      ]
     },
     "execution_count": 58,
     "metadata": {},
     "output_type": "execute_result"
    }
   ],
   "source": [
    "# Test new function in wrangle.py and assign to dataframes\n",
    "train, validate, test = wrangle.split_zillow(zillow)\n",
    "train.head()"
   ]
  },
  {
   "cell_type": "markdown",
   "id": "eab679ee-63b8-44a3-8e44-0f5009d29a38",
   "metadata": {
    "jp-MarkdownHeadingCollapsed": true,
    "tags": []
   },
   "source": [
    "# Model split (X_train,y_train)"
   ]
  },
  {
   "cell_type": "code",
   "execution_count": 26,
   "id": "31cd5209-131d-4a41-ae95-593ca79b1504",
   "metadata": {},
   "outputs": [],
   "source": [
    "# # Assign x_train for modeling, y_train as target for modeling\n",
    "# X_train = train.drop(columns=['taxable_value'])\n",
    "# y_train = train[['taxable_value']]\n",
    "\n",
    "# X_validate = validate.drop(columns=['taxable_value'])\n",
    "# y_validate = validate[['taxable_value']]\n",
    "\n",
    "# X_test = test.drop(columns=['taxable_value'])\n",
    "# y_test = test[['taxable_value']]\n",
    "\n",
    "# X_train.head()"
   ]
  },
  {
   "cell_type": "code",
   "execution_count": 27,
   "id": "7d6110da-5cce-4e84-b44e-450c5d903693",
   "metadata": {},
   "outputs": [],
   "source": [
    "# def model_split(df):\n",
    "    \n",
    "#     # Assign x for testing the model, y as target for modeling\n",
    "#     X = df.drop(columns=['taxable_value'])\n",
    "#     y = df[['taxable_value']]\n",
    "    \n",
    "#     return X, y"
   ]
  },
  {
   "cell_type": "code",
   "execution_count": 59,
   "id": "2d223506-8fe4-4b59-824a-20ede6197f14",
   "metadata": {},
   "outputs": [],
   "source": [
    "X_train, y_train = wrangle.model_split(train)\n",
    "\n",
    "X_validate, y_validate = wrangle.model_split(validate)\n",
    "\n",
    "X_test, y_test = wrangle.model_split(test)"
   ]
  },
  {
   "cell_type": "markdown",
   "id": "289e01d1-b1d6-438b-ada3-591b9aee71b7",
   "metadata": {
    "jp-MarkdownHeadingCollapsed": true,
    "tags": []
   },
   "source": [
    "# Scale"
   ]
  },
  {
   "cell_type": "code",
   "execution_count": 29,
   "id": "a018ef01-2bc6-4a9b-adc9-bd1e52011fb2",
   "metadata": {
    "tags": []
   },
   "outputs": [],
   "source": [
    "# Create function to scale data \n",
    "# def scale_data(train, validate, test, return_scaler=False):\n",
    "#     '''\n",
    "#     This function scales the split data and returns a scaled version of the dataset.\n",
    "    \n",
    "#     If return_scaler is true, the scaler will be returned as well.\n",
    "#     '''\n",
    "    \n",
    "#     col = train.columns[train.dtypes == 'float']\n",
    "#     col = col.append(train.columns[train.dtypes == 'int'])\n",
    "\n",
    "#     train_scaled = train[col]\n",
    "#     validate_scaled = validate[col]\n",
    "#     test_scaled = test[col]\n",
    "\n",
    "#     scaler = MinMaxScaler()\n",
    "#     scaler.fit(train[col])\n",
    "    \n",
    "#     train_scaled[col] = scaler.transform(train[col])\n",
    "#     validate_scaled[col] = scaler.transform(validate[col])\n",
    "#     test_scaled[col] = scaler.transform(test[col])\n",
    "    \n",
    "#     if return_scaler:\n",
    "#         return train_scaled, validate_scaled, test_scaled, scaler\n",
    "#     else:\n",
    "#         return train_scaled, validate_scaled, test_scaled"
   ]
  },
  {
   "cell_type": "code",
   "execution_count": 60,
   "id": "b5913a3c-b1b1-4241-b8ab-e4659e295d3d",
   "metadata": {},
   "outputs": [],
   "source": [
    "# Scale the data for modeling\n",
    "X_train_scaled, X_validate_scaled, X_test_scaled = wrangle.scale_data(X_train,X_validate,X_test)"
   ]
  },
  {
   "cell_type": "code",
   "execution_count": 61,
   "id": "887f95f7-1002-411c-9e4e-201bbb0bfed3",
   "metadata": {},
   "outputs": [
    {
     "data": {
      "text/html": [
       "<div>\n",
       "<style scoped>\n",
       "    .dataframe tbody tr th:only-of-type {\n",
       "        vertical-align: middle;\n",
       "    }\n",
       "\n",
       "    .dataframe tbody tr th {\n",
       "        vertical-align: top;\n",
       "    }\n",
       "\n",
       "    .dataframe thead th {\n",
       "        text-align: right;\n",
       "    }\n",
       "</style>\n",
       "<table border=\"1\" class=\"dataframe\">\n",
       "  <thead>\n",
       "    <tr style=\"text-align: right;\">\n",
       "      <th></th>\n",
       "      <th>bedrooms</th>\n",
       "      <th>bathrooms</th>\n",
       "      <th>area</th>\n",
       "      <th>year_built</th>\n",
       "      <th>house_age_2017</th>\n",
       "      <th>bed_to_bath_ratio</th>\n",
       "    </tr>\n",
       "  </thead>\n",
       "  <tbody>\n",
       "    <tr>\n",
       "      <th>24182</th>\n",
       "      <td>0.333333</td>\n",
       "      <td>0.666667</td>\n",
       "      <td>0.635397</td>\n",
       "      <td>0.742857</td>\n",
       "      <td>0.257143</td>\n",
       "      <td>0.230769</td>\n",
       "    </tr>\n",
       "    <tr>\n",
       "      <th>37682</th>\n",
       "      <td>0.333333</td>\n",
       "      <td>0.333333</td>\n",
       "      <td>0.236622</td>\n",
       "      <td>0.600000</td>\n",
       "      <td>0.400000</td>\n",
       "      <td>0.461538</td>\n",
       "    </tr>\n",
       "    <tr>\n",
       "      <th>1666</th>\n",
       "      <td>0.333333</td>\n",
       "      <td>0.333333</td>\n",
       "      <td>0.302708</td>\n",
       "      <td>0.514286</td>\n",
       "      <td>0.485714</td>\n",
       "      <td>0.461538</td>\n",
       "    </tr>\n",
       "    <tr>\n",
       "      <th>41060</th>\n",
       "      <td>0.000000</td>\n",
       "      <td>0.000000</td>\n",
       "      <td>0.077369</td>\n",
       "      <td>0.361905</td>\n",
       "      <td>0.638095</td>\n",
       "      <td>0.692308</td>\n",
       "    </tr>\n",
       "    <tr>\n",
       "      <th>39531</th>\n",
       "      <td>1.000000</td>\n",
       "      <td>1.000000</td>\n",
       "      <td>0.589297</td>\n",
       "      <td>0.457143</td>\n",
       "      <td>0.542857</td>\n",
       "      <td>0.346154</td>\n",
       "    </tr>\n",
       "  </tbody>\n",
       "</table>\n",
       "</div>"
      ],
      "text/plain": [
       "       bedrooms  bathrooms      area  year_built  house_age_2017  \\\n",
       "24182  0.333333   0.666667  0.635397    0.742857        0.257143   \n",
       "37682  0.333333   0.333333  0.236622    0.600000        0.400000   \n",
       "1666   0.333333   0.333333  0.302708    0.514286        0.485714   \n",
       "41060  0.000000   0.000000  0.077369    0.361905        0.638095   \n",
       "39531  1.000000   1.000000  0.589297    0.457143        0.542857   \n",
       "\n",
       "       bed_to_bath_ratio  \n",
       "24182           0.230769  \n",
       "37682           0.461538  \n",
       "1666            0.461538  \n",
       "41060           0.692308  \n",
       "39531           0.346154  "
      ]
     },
     "execution_count": 61,
     "metadata": {},
     "output_type": "execute_result"
    }
   ],
   "source": [
    "X_train_scaled.head()"
   ]
  },
  {
   "cell_type": "markdown",
   "id": "2da07b1a-d73e-40d3-812b-864482525de5",
   "metadata": {
    "tags": []
   },
   "source": [
    "# Explore"
   ]
  },
  {
   "cell_type": "markdown",
   "id": "1bb27013-ad26-4ade-ae64-4c1c7f6aae82",
   "metadata": {},
   "source": [
    "## Hypothesize"
   ]
  },
  {
   "cell_type": "markdown",
   "id": "04a69d89-15a5-4078-8a57-86c3621b2119",
   "metadata": {},
   "source": [
    "- Does county affect price?\n",
    "- Does the size of the house (area) affect price?\n",
    "- Does the age affect price?\n",
    "- Does the number of bedrooms or bathrooms affect price."
   ]
  },
  {
   "cell_type": "markdown",
   "id": "b46684c3-563f-44b4-a59a-22aaea947294",
   "metadata": {},
   "source": [
    "## Visualize"
   ]
  },
  {
   "cell_type": "code",
   "execution_count": 64,
   "id": "933abfdc-1339-40e7-9b5b-3d4c398ad9f4",
   "metadata": {},
   "outputs": [
    {
     "data": {
      "image/png": "[encoded data removed]",
      "text/plain": [
       "<Figure size 720x504 with 2 Axes>"
      ]
     },
     "metadata": {
      "needs_background": "light"
     },
     "output_type": "display_data"
    }
   ],
   "source": [
    "# Perform a Pearson Correlation on the dataset\n",
    "plt.figure(figsize=(10,7))\n",
    "correlate = train.corr()\n",
    "sns.heatmap(correlate, annot=True, cmap='coolwarm')\n",
    "plt.show()"
   ]
  },
  {
   "cell_type": "markdown",
   "id": "864af30f-6185-48e3-9700-fa180dc4ce06",
   "metadata": {},
   "source": [
    "- area and bathrooms seem to have a higher correlation to taxable_values"
   ]
  },
  {
   "cell_type": "code",
   "execution_count": null,
   "id": "dbbb3d72-ab2c-4049-a214-2ae660680b65",
   "metadata": {},
   "outputs": [],
   "source": [
    "train.head()"
   ]
  },
  {
   "cell_type": "markdown",
   "id": "56d81781-4b24-45c5-acac-c7c1ae7d30aa",
   "metadata": {},
   "source": [
    "### Does county affect price?"
   ]
  },
  {
   "cell_type": "code",
   "execution_count": null,
   "id": "09a1bd20-eefe-42a1-b5c3-b17795866b04",
   "metadata": {},
   "outputs": [],
   "source": [
    "train.county.value_counts()"
   ]
  },
  {
   "cell_type": "code",
   "execution_count": null,
   "id": "5f06eaec-596a-4450-84bd-44b3a0637eda",
   "metadata": {},
   "outputs": [],
   "source": [
    "train_la = train[train.county == 'los_angeles_ca']"
   ]
  },
  {
   "cell_type": "code",
   "execution_count": 66,
   "id": "0ff75565-ec3f-4694-940f-95a17680d461",
   "metadata": {},
   "outputs": [
    {
     "data": {
      "image/png": "[encoded data removed]",
      "text/plain": [
       "<Figure size 432x288 with 1 Axes>"
      ]
     },
     "metadata": {
      "needs_background": "light"
     },
     "output_type": "display_data"
    }
   ],
   "source": [
    "sns.boxplot('county','taxable_value',data=train)\n",
    "plt.title('Distribution of Tax assessed value by county')\n",
    "plt.show()"
   ]
  },
  {
   "cell_type": "markdown",
   "id": "06ebfcb2-002f-4a3e-8cb4-b3a05f8019e7",
   "metadata": {},
   "source": [
    "### Does the size of the house (area) affect price?"
   ]
  },
  {
   "cell_type": "code",
   "execution_count": null,
   "id": "e4c53275-0e68-4621-b055-1700d12ef07c",
   "metadata": {},
   "outputs": [],
   "source": [
    "sns.violinplot(x='taxable_value', y='area', data=train)\n",
    "plt.show()"
   ]
  },
  {
   "cell_type": "code",
   "execution_count": 103,
   "id": "88279cd5-55c5-43dd-a6fc-40e7b04fd5e9",
   "metadata": {},
   "outputs": [
    {
     "data": {
      "image/png": "[encoded data removed]",
      "text/plain": [
       "<Figure size 432x432 with 3 Axes>"
      ]
     },
     "metadata": {
      "needs_background": "light"
     },
     "output_type": "display_data"
    }
   ],
   "source": [
    "sns.jointplot(x='area', y='taxable_value', data=train, kind='kde')\n",
    "plt.show()"
   ]
  },
  {
   "cell_type": "code",
   "execution_count": 74,
   "id": "a4640e08-0fa1-4d12-a2d6-5b68fc36662f",
   "metadata": {},
   "outputs": [],
   "source": [
    "# sns.swarmplot(x='taxable_value', y='area', data=train)\n",
    "# plt.show()"
   ]
  },
  {
   "cell_type": "markdown",
   "id": "90bf5c76-9867-4597-8c2c-a4fb9f9bd5b0",
   "metadata": {},
   "source": [
    "### Does the age affect price?"
   ]
  },
  {
   "cell_type": "code",
   "execution_count": 88,
   "id": "0b7ffe63-b661-4a6f-b0a5-0d9326f85825",
   "metadata": {},
   "outputs": [
    {
     "data": {
      "image/png": "[encoded data removed]",
      "text/plain": [
       "<Figure size 432x288 with 1 Axes>"
      ]
     },
     "metadata": {
      "needs_background": "light"
     },
     "output_type": "display_data"
    }
   ],
   "source": [
    "sns.histplot(x=('year_built', y='taxable_value', data=train, log_scale=True)\n",
    "plt.show()"
   ]
  },
  {
   "cell_type": "code",
   "execution_count": 116,
   "id": "f4d2dd0f-cccd-4e8d-ab4b-6da2e8562108",
   "metadata": {},
   "outputs": [
    {
     "data": {
      "image/png": "[encoded data removed]",
      "text/plain": [
       "<Figure size 576x504 with 1 Axes>"
      ]
     },
     "metadata": {
      "needs_background": "light"
     },
     "output_type": "display_data"
    }
   ],
   "source": [
    "train_age = train.copy()\n",
    "train_age['house_age_2017'] = pd.cut(train_age.house_age_2017, 15,labels=False)\n",
    "plt.figure(figsize=(8,7))\n",
    "sns.barplot(x='house_age_2017', y='taxable_value', data=train_age)\n",
    "plt.xlabel('House Age Binned')\n",
    "plt.show()"
   ]
  },
  {
   "cell_type": "code",
   "execution_count": 78,
   "id": "550e0ae9-5f16-4132-8433-cf8dc38505da",
   "metadata": {},
   "outputs": [
    {
     "data": {
      "image/png": "[encoded data removed]",
      "text/plain": [
       "<Figure size 432x288 with 1 Axes>"
      ]
     },
     "metadata": {
      "needs_background": "light"
     },
     "output_type": "display_data"
    }
   ],
   "source": [
    "sns.countplot(x='house_age_2017', data=train)\n",
    "plt.show()"
   ]
  },
  {
   "cell_type": "code",
   "execution_count": null,
   "id": "552e5252-9eea-409c-a487-38bd6e8467fc",
   "metadata": {},
   "outputs": [],
   "source": []
  },
  {
   "cell_type": "markdown",
   "id": "1aead234-0308-4235-8663-0b99e40b4e9d",
   "metadata": {},
   "source": [
    "### Does the ratio of bedrooms and bathrooms affect price? "
   ]
  },
  {
   "cell_type": "code",
   "execution_count": 79,
   "id": "5a84f143-cdd5-4805-83b9-0c813936f105",
   "metadata": {},
   "outputs": [
    {
     "data": {
      "image/png": "[encoded data removed]",
      "text/plain": [
       "<Figure size 432x288 with 1 Axes>"
      ]
     },
     "metadata": {
      "needs_background": "light"
     },
     "output_type": "display_data"
    }
   ],
   "source": [
    "sns.countplot(x='bed_to_bath_ratio', data=train)\n",
    "plt.show()"
   ]
  },
  {
   "cell_type": "code",
   "execution_count": 80,
   "id": "d5af9e4e-9657-4e12-a743-8628d3894da0",
   "metadata": {},
   "outputs": [
    {
     "data": {
      "image/png": "[encoded data removed]",
      "text/plain": [
       "<Figure size 360x360 with 1 Axes>"
      ]
     },
     "metadata": {
      "needs_background": "light"
     },
     "output_type": "display_data"
    }
   ],
   "source": [
    "sns.lmplot(x='bed_to_bath_ratio', y='taxable_value', data=train, scatter=True,x_bins=10)\n",
    "plt.show()"
   ]
  },
  {
   "cell_type": "code",
   "execution_count": 81,
   "id": "271c1ee8-930e-4e18-b3fc-fde506724304",
   "metadata": {},
   "outputs": [
    {
     "data": {
      "image/png": "[encoded data removed]",
      "text/plain": [
       "<Figure size 432x288 with 1 Axes>"
      ]
     },
     "metadata": {
      "needs_background": "light"
     },
     "output_type": "display_data"
    }
   ],
   "source": [
    "sns.barplot(x='bed_to_bath_ratio', y='taxable_value', data=train)\n",
    "plt.show()"
   ]
  },
  {
   "cell_type": "code",
   "execution_count": 82,
   "id": "269e9b71-128b-4a1f-ba8d-933fba6e4944",
   "metadata": {},
   "outputs": [
    {
     "data": {
      "image/png": "[encoded data removed]",
      "text/plain": [
       "<Figure size 360x360 with 1 Axes>"
      ]
     },
     "metadata": {
      "needs_background": "light"
     },
     "output_type": "display_data"
    }
   ],
   "source": [
    "sns.relplot(x='bed_to_bath_ratio', y='taxable_value', data=train, kind='scatter')\n",
    "plt.show()"
   ]
  },
  {
   "cell_type": "code",
   "execution_count": 122,
   "id": "7ef3fe83-9908-4ef1-a71a-6af3b6725f06",
   "metadata": {},
   "outputs": [
    {
     "data": {
      "image/png": "[encoded data removed]",
      "text/plain": [
       "<Figure size 1080x504 with 1 Axes>"
      ]
     },
     "metadata": {
      "needs_background": "light"
     },
     "output_type": "display_data"
    }
   ],
   "source": [
    "train_ratio = train.copy()\n",
    "train_ratio['bed_to_bath_ratio'] = pd.cut(train_ratio.bed_to_bath_ratio, 20,labels=False)\n",
    "plt.figure(figsize=(15,7))\n",
    "sns.barplot(x='bed_to_bath_ratio', y='taxable_value', data=train)\n",
    "plt.show()"
   ]
  },
  {
   "cell_type": "markdown",
   "id": "1425da9e-fd28-417c-91c3-51c96efefff8",
   "metadata": {},
   "source": [
    "- Summary: "
   ]
  },
  {
   "cell_type": "markdown",
   "id": "0907a3f4-efdd-4250-8c7d-c534138aef90",
   "metadata": {
    "tags": []
   },
   "source": [
    "# Hypothesis Testing"
   ]
  },
  {
   "cell_type": "code",
   "execution_count": null,
   "id": "625e80d6-a69a-49e0-9121-2de7f2d16afe",
   "metadata": {},
   "outputs": [],
   "source": []
  },
  {
   "cell_type": "markdown",
   "id": "6bd86562-9eb2-473b-9108-7babf0844ebd",
   "metadata": {
    "jp-MarkdownHeadingCollapsed": true,
    "tags": []
   },
   "source": [
    "# Feature Engineering"
   ]
  },
  {
   "cell_type": "markdown",
   "id": "df1146aa-19a6-4039-8029-32c5ce304357",
   "metadata": {},
   "source": [
    "## SelectKBest"
   ]
  },
  {
   "cell_type": "code",
   "execution_count": 32,
   "id": "3dbf718c-0d90-44b5-b6ac-41ed6aa10b34",
   "metadata": {},
   "outputs": [
    {
     "data": {
      "text/plain": [
       "['bathrooms', 'area', 'bed_to_bath_ratio']"
      ]
     },
     "execution_count": 32,
     "metadata": {},
     "output_type": "execute_result"
    }
   ],
   "source": [
    "# We use SelectKBest to run a f_regression stats test and return the top 3\n",
    "f_selector = SelectKBest(f_regression, k=3)\n",
    "\n",
    "# We fit this to our data\n",
    "f_selector.fit(X_train_scaled, y_train)\n",
    "\n",
    "# Create a boolean mask to find out which were selected\n",
    "feature_mask = f_selector.get_support()\n",
    "\n",
    "# We get a list of the top 3 features by name\n",
    "f_feature = X_train_scaled.iloc[:,feature_mask].columns.tolist()\n",
    "\n",
    "f_feature"
   ]
  },
  {
   "cell_type": "markdown",
   "id": "1ff7c19b-a5f7-4080-872d-379cb9d19ecf",
   "metadata": {},
   "source": [
    "## Recursive Feature Elimination: \n",
    "We iteratively create models starting with all features and remove the lowest performing on each iteration until we have reach the desired n_features.\n"
   ]
  },
  {
   "cell_type": "code",
   "execution_count": 33,
   "id": "aae5ca7f-7a8c-4f2e-a72e-897804d22349",
   "metadata": {},
   "outputs": [
    {
     "data": {
      "text/plain": [
       "['area', 'year_built', 'house_age_2017']"
      ]
     },
     "execution_count": 33,
     "metadata": {},
     "output_type": "execute_result"
    }
   ],
   "source": [
    "# initialize Linear Regression model\n",
    "lm = LinearRegression()\n",
    "\n",
    "# Create Recursive Feature Elimination model\n",
    "rfe = RFE(lm, n_features_to_select=3)\n",
    "\n",
    "# fit the model\n",
    "rfe.fit(X_train_scaled, y_train)\n",
    "\n",
    "# get mask of columns selected\n",
    "feature_mask = rfe.support_\n",
    "\n",
    "# get list of selected column names\n",
    "rfe_feature = X_train_scaled.iloc[:,feature_mask].columns.tolist()\n",
    "\n",
    "rfe_feature"
   ]
  },
  {
   "cell_type": "code",
   "execution_count": 34,
   "id": "9793d40e-b969-4527-8732-14bd7abf32a6",
   "metadata": {},
   "outputs": [
    {
     "data": {
      "text/html": [
       "<div>\n",
       "<style scoped>\n",
       "    .dataframe tbody tr th:only-of-type {\n",
       "        vertical-align: middle;\n",
       "    }\n",
       "\n",
       "    .dataframe tbody tr th {\n",
       "        vertical-align: top;\n",
       "    }\n",
       "\n",
       "    .dataframe thead th {\n",
       "        text-align: right;\n",
       "    }\n",
       "</style>\n",
       "<table border=\"1\" class=\"dataframe\">\n",
       "  <thead>\n",
       "    <tr style=\"text-align: right;\">\n",
       "      <th></th>\n",
       "      <th>Variable</th>\n",
       "      <th>Rank</th>\n",
       "    </tr>\n",
       "  </thead>\n",
       "  <tbody>\n",
       "    <tr>\n",
       "      <th>2</th>\n",
       "      <td>area</td>\n",
       "      <td>1</td>\n",
       "    </tr>\n",
       "    <tr>\n",
       "      <th>3</th>\n",
       "      <td>year_built</td>\n",
       "      <td>1</td>\n",
       "    </tr>\n",
       "    <tr>\n",
       "      <th>4</th>\n",
       "      <td>house_age_2017</td>\n",
       "      <td>1</td>\n",
       "    </tr>\n",
       "    <tr>\n",
       "      <th>0</th>\n",
       "      <td>bedrooms</td>\n",
       "      <td>2</td>\n",
       "    </tr>\n",
       "    <tr>\n",
       "      <th>1</th>\n",
       "      <td>bathrooms</td>\n",
       "      <td>3</td>\n",
       "    </tr>\n",
       "    <tr>\n",
       "      <th>5</th>\n",
       "      <td>bed_to_bath_ratio</td>\n",
       "      <td>4</td>\n",
       "    </tr>\n",
       "  </tbody>\n",
       "</table>\n",
       "</div>"
      ],
      "text/plain": [
       "            Variable  Rank\n",
       "2               area     1\n",
       "3         year_built     1\n",
       "4     house_age_2017     1\n",
       "0           bedrooms     2\n",
       "1          bathrooms     3\n",
       "5  bed_to_bath_ratio     4"
      ]
     },
     "execution_count": 34,
     "metadata": {},
     "output_type": "execute_result"
    }
   ],
   "source": [
    "# Create list of variables and their ranking\n",
    "\n",
    "# ranks\n",
    "var_ranks = rfe.ranking_\n",
    "\n",
    "# names\n",
    "var_names = X_train_scaled.columns.tolist()\n",
    "\n",
    "# combine to dataframe\n",
    "rfe_ranks_df = pd.DataFrame({'Variable' : var_names, 'Rank' : var_ranks})\n",
    "\n",
    "# sort\n",
    "rfe_ranks_df.sort_values('Rank')"
   ]
  },
  {
   "cell_type": "code",
   "execution_count": null,
   "id": "807c806c-092c-4ac5-bd81-8a9e1a0bad60",
   "metadata": {},
   "outputs": [],
   "source": []
  },
  {
   "cell_type": "markdown",
   "id": "964618bf-063c-41a3-bad9-a1f55fecac67",
   "metadata": {
    "jp-MarkdownHeadingCollapsed": true,
    "tags": []
   },
   "source": [
    "# Feature Engineeering Extended"
   ]
  },
  {
   "cell_type": "markdown",
   "id": "0fe26c38-f3ee-4826-bf5a-1c54cc602d16",
   "metadata": {
    "tags": []
   },
   "source": [
    "## Find Optimum number of features with RFE"
   ]
  },
  {
   "cell_type": "code",
   "execution_count": null,
   "id": "bc9578d6-24c6-4f3f-b5df-b5e09b54ddb9",
   "metadata": {},
   "outputs": [],
   "source": [
    "number_of_features_list=np.arange(1,3)\n",
    "high_score=0\n",
    "number_of_features=0\n",
    "score_list=[]\n",
    "\n",
    "for n in range(len(number_of_features_list)):\n",
    "    lm = LinearRegression()\n",
    "    rfe = RFE(lm,number_of_features_list[n])\n",
    "    X_train_rfe = rfe.fit_transform(X_train_scaled,y_train)\n",
    "    X_test_rfe = rfe.transform(X_test_scaled)\n",
    "    lm.fit(X_train_rfe,y_train)\n",
    "    score = lm.score(X_test_rfe,y_test)\n",
    "    score_list.append(score)\n",
    "    if(score>high_score):\n",
    "        high_score = score\n",
    "        number_of_features = number_of_features_list[n]\n",
    "        \n",
    "print('Optimum number of features: %d' % number_of_features)\n",
    "print('Score with %d features: %f' % (number_of_features, high_score))"
   ]
  },
  {
   "cell_type": "markdown",
   "id": "d71fe44a-e769-4b42-94c6-fa5331aed74b",
   "metadata": {},
   "source": [
    "## Backward Elimination using OLS"
   ]
  },
  {
   "cell_type": "code",
   "execution_count": null,
   "id": "d6e64760-299b-4c99-8915-d71ac2663ec6",
   "metadata": {},
   "outputs": [],
   "source": [
    "# create OLS object\n",
    "ols_model = sm.OLS(y_train, X_train_scaled)\n",
    "\n",
    "# fit model\n",
    "fit = ols_model.fit()\n",
    "\n",
    "# summarize\n",
    "fit.summary()"
   ]
  },
  {
   "cell_type": "markdown",
   "id": "e3fa03b4-45c6-43de-b1bc-aceeec9cabfc",
   "metadata": {},
   "source": [
    "## Using OLS above for backwards elimination\n"
   ]
  },
  {
   "cell_type": "code",
   "execution_count": null,
   "id": "83aa3141-7121-4269-8ad8-d1fa10628e22",
   "metadata": {},
   "outputs": [],
   "source": [
    "cols = list(X_train_scaled.columns)\n",
    "pmax = 1\n",
    "while (len(cols)>0):\n",
    "    p = []\n",
    "    X_1 = X_train_scaled[cols]\n",
    "    X_1 = sm.add_constant(X_1)\n",
    "    model = sm.OLS(y_train,X_1).fit()\n",
    "    p = pd.Series(model.pvalues.values[1:],index = cols)\n",
    "    pmax = max(p)\n",
    "    feature_with_p_max = p.max = p.idxmax()\n",
    "    if(pmax>0.05):\n",
    "        cols.remove(feature_with_p_max)\n",
    "    else:\n",
    "        break\n",
    "selected_features_BE = cols\n",
    "print(selected_features_BE)"
   ]
  },
  {
   "cell_type": "markdown",
   "id": "fe35b83a-3f79-4383-a409-2eb5031fe96f",
   "metadata": {},
   "source": [
    "Nothing important to note"
   ]
  },
  {
   "cell_type": "markdown",
   "id": "c59f2978-7056-446b-9fbb-1f35ac66f46d",
   "metadata": {
    "tags": []
   },
   "source": [
    "## Embedded Methods\n",
    "\n",
    "## Lasso regularization"
   ]
  },
  {
   "cell_type": "code",
   "execution_count": null,
   "id": "6df846de-0e2e-4517-bac7-b640d898894c",
   "metadata": {},
   "outputs": [],
   "source": [
    "# reg = MultiTaskLassoCV()\n",
    "# reg.fit(X_train_scaled, y_train)\n",
    "\n",
    "# print(f'best alpha {reg.alpha_}')\n",
    "# print(f'best score {reg.score(X_train_scaled,y_train)}')\n",
    "# coef = pd.Series(reg.coef_, index = X_train_scaled.columns)\n",
    "\n",
    "# print('pick ' + str(sum(coef !=0)) + ' and kick ' + str(sum(coef==0)))"
   ]
  },
  {
   "cell_type": "code",
   "execution_count": null,
   "id": "b0206ba5-fa9c-41dc-8c99-341a0c340069",
   "metadata": {},
   "outputs": [],
   "source": [
    "# imp_coef = coef.sort_values()\n",
    "\n",
    "# import matplotlib\n",
    "\n",
    "# matplotlib.rcParams['figure.figsize'] = (4.0,5.0)\n",
    "# imp_coef.plot(kind = \"barh\")\n",
    "# plt.title('Lasso Feature Importance')\n",
    "# plt.show()"
   ]
  },
  {
   "cell_type": "markdown",
   "id": "17fcdd89-8052-4d6f-94d7-00a0e36a4e89",
   "metadata": {
    "tags": []
   },
   "source": [
    "## Linear Dimensionality Reduction\n",
    "\n",
    "## Principal Component Analysis"
   ]
  },
  {
   "cell_type": "code",
   "execution_count": null,
   "id": "10475580-db51-4da3-9527-276f2bf3adcb",
   "metadata": {},
   "outputs": [],
   "source": [
    "from sklearn.decomposition import PCA\n",
    "\n",
    "pca = PCA(n_components=2, random_state=1729)\n",
    "pca.fit(X_train_scaled)\n",
    "X = pca.transform(X_train_scaled)\n",
    "print(pca.n_components_)\n",
    "print(len(X))\n",
    "print(pca.explained_variance_ratio_)\n",
    "print(X[0:5])"
   ]
  },
  {
   "cell_type": "markdown",
   "id": "c93a93b6-21db-4ae0-8fcb-d7b4d5f8aee5",
   "metadata": {
    "jp-MarkdownHeadingCollapsed": true,
    "tags": []
   },
   "source": [
    "# Build Models"
   ]
  },
  {
   "cell_type": "markdown",
   "id": "7ba95d9e-014b-4b91-ae37-4b6473c59328",
   "metadata": {},
   "source": [
    "### Baseline"
   ]
  },
  {
   "cell_type": "code",
   "execution_count": 35,
   "id": "f78c5ba5-ba81-4063-9d4e-e925c1a44eae",
   "metadata": {
    "tags": []
   },
   "outputs": [
    {
     "name": "stdout",
     "output_type": "stream",
     "text": [
      "RMSE Baseline using Mean\n",
      "Train(In-Sample):  245412.89 \n",
      "Validate(Out-of-Sample):  247632.63\n",
      "RMSE using Median\n",
      "Train(In-Sample):  247647.3 \n",
      "Validate(Out-of-Sample):  250432.3\n"
     ]
    }
   ],
   "source": [
    "# Predict taxable_value_pred_mean\n",
    "taxable_value_pred_mean = y_train['taxable_value'].mean()\n",
    "y_train['taxable_value_pred_mean'] = taxable_value_pred_mean\n",
    "y_validate['taxable_value_pred_mean'] = taxable_value_pred_mean\n",
    "\n",
    "# compute taxable_value_pred_median\n",
    "taxable_value_pred_median = y_train['taxable_value'].median()\n",
    "y_train['taxable_value_pred_median'] = taxable_value_pred_median\n",
    "y_validate['taxable_value_pred_median'] = taxable_value_pred_median\n",
    "\n",
    "# RMSE of taxable_value_pred_mean\n",
    "rmse_train = mean_squared_error(y_train.taxable_value, y_train.taxable_value_pred_mean)**(1/2)\n",
    "rmse_validate = mean_squared_error(y_validate.taxable_value, y_validate.taxable_value_pred_mean)**(1/2)\n",
    "\n",
    "print(\"RMSE Baseline using Mean\\nTrain(In-Sample): \", round(rmse_train, 2), \n",
    "      \"\\nValidate(Out-of-Sample): \", round(rmse_validate, 2))\n",
    "\n",
    "# RMSE of taxable_value_pred_median\n",
    "rmse_train = mean_squared_error(y_train.taxable_value, y_train.taxable_value_pred_median)**(1/2)\n",
    "rmse_validate = mean_squared_error(y_validate.taxable_value, y_validate.taxable_value_pred_median)**(1/2)\n",
    "\n",
    "print(\"RMSE using Median\\nTrain(In-Sample): \", round(rmse_train, 2), \n",
    "      \"\\nValidate(Out-of-Sample): \", round(rmse_validate, 2))\n"
   ]
  },
  {
   "cell_type": "markdown",
   "id": "cb199c99-024f-4689-8d10-764c153a6247",
   "metadata": {},
   "source": [
    "- Mean seems to be the better option"
   ]
  },
  {
   "cell_type": "markdown",
   "id": "abcaeb19-4516-4708-bfc4-d22e042ee7ab",
   "metadata": {},
   "source": [
    "### Linear Regression (Ordinary Least Squares)"
   ]
  },
  {
   "cell_type": "code",
   "execution_count": 36,
   "id": "03e4d1e3-5745-44de-af77-309794dfea02",
   "metadata": {
    "tags": []
   },
   "outputs": [
    {
     "name": "stdout",
     "output_type": "stream",
     "text": [
      "RMSE for Ordinary Least Squares using LinearRegression\n",
      "Training(In-Sample):  219292.13875983964 \n",
      "Validation(Out-of-Sample):  220905.6652927631\n"
     ]
    }
   ],
   "source": [
    "# create the model object\n",
    "lm = LinearRegression(normalize=True)\n",
    "\n",
    "# fit the model\n",
    "lm.fit(X_train_scaled[['area','bedrooms','bathrooms','year_built']], y_train.taxable_value)\n",
    "\n",
    "# predict train\n",
    "y_train['taxable_value_pred_lm'] = lm.predict(X_train_scaled[['area','bedrooms','bathrooms','year_built']])\n",
    "\n",
    "# evaluate: rmse_train\n",
    "rmse_train = mean_squared_error(y_train.taxable_value, y_train.taxable_value_pred_lm)**(1/2)\n",
    "\n",
    "# predict validate\n",
    "y_validate['taxable_value_pred_lm'] = lm.predict(X_validate_scaled[['area','bedrooms','bathrooms','year_built']])\n",
    "\n",
    "# evaluate: rmse_validate\n",
    "rmse_validate = mean_squared_error(y_validate.taxable_value, y_validate.taxable_value_pred_lm)**(1/2)\n",
    "\n",
    "print(\"RMSE for Ordinary Least Squares using LinearRegression\\nTraining(In-Sample): \", rmse_train, \n",
    "      \"\\nValidation(Out-of-Sample): \", rmse_validate)"
   ]
  },
  {
   "cell_type": "code",
   "execution_count": 37,
   "id": "4748a2fa-db71-476e-a7db-43e6188c6e40",
   "metadata": {
    "tags": []
   },
   "outputs": [
    {
     "name": "stdout",
     "output_type": "stream",
     "text": [
      "RMSE_2 for Ordinary Least Squares using LinearRegression\n",
      "Training(In-Sample):  219898.66316630863 \n",
      "Validation(Out-of-Sample):  221531.8724481555\n"
     ]
    }
   ],
   "source": [
    "# create the model object\n",
    "lm2 = LinearRegression(normalize=True)\n",
    "\n",
    "# fit the model\n",
    "lm2.fit(X_train_scaled[['area','bed_to_bath_ratio','house_age_2017']], y_train.taxable_value)\n",
    "\n",
    "# predict train\n",
    "y_train['taxable_value_pred_lm2'] = lm2.predict(X_train_scaled[['area','bed_to_bath_ratio','house_age_2017']])\n",
    "\n",
    "# evaluate: rmse_train_2\n",
    "rmse_train_2 = mean_squared_error(y_train.taxable_value, y_train.taxable_value_pred_lm2)**(1/2)\n",
    "\n",
    "# predict validate\n",
    "y_validate['taxable_value_pred_lm2'] = lm2.predict(X_validate_scaled[['area','bed_to_bath_ratio','house_age_2017']])\n",
    "\n",
    "# evaluate: rmse_validate_2\n",
    "rmse_validate_2 = mean_squared_error(y_validate.taxable_value, y_validate.taxable_value_pred_lm2)**(1/2)\n",
    "\n",
    "print(\"RMSE_2 for Ordinary Least Squares using LinearRegression\\nTraining(In-Sample): \", rmse_train_2, \n",
    "      \"\\nValidation(Out-of-Sample): \", rmse_validate_2)"
   ]
  },
  {
   "cell_type": "code",
   "execution_count": 38,
   "id": "c79c2db0-96f4-4384-b831-ee738301268f",
   "metadata": {
    "tags": []
   },
   "outputs": [
    {
     "name": "stdout",
     "output_type": "stream",
     "text": [
      "RMSE for Ordinary Least Squares using LinearRegression\n",
      "Training(In-Sample):  220835.99571259043 \n",
      "Validation(Out-of-Sample):  222364.2585832494\n"
     ]
    }
   ],
   "source": [
    "# create the model object\n",
    "lm3 = LinearRegression(normalize=True)\n",
    "\n",
    "# fit the model\n",
    "lm3.fit(X_train_scaled[['area','year_built']], y_train.taxable_value)\n",
    "\n",
    "# predict train\n",
    "y_train['taxable_value_pred_lm3'] = lm3.predict(X_train_scaled[['area','year_built']])\n",
    "\n",
    "# evaluate: rmse_train_3\n",
    "rmse_train_3 = mean_squared_error(y_train.taxable_value, y_train.taxable_value_pred_lm3)**(1/2)\n",
    "\n",
    "# predict validate\n",
    "y_validate['taxable_value_pred_lm3'] = lm3.predict(X_validate_scaled[['area','year_built']])\n",
    "\n",
    "# evaluate: rmse_validate_3\n",
    "rmse_validate_3 = mean_squared_error(y_validate.taxable_value, y_validate.taxable_value_pred_lm3)**(1/2)\n",
    "\n",
    "print(\"RMSE for Ordinary Least Squares using LinearRegression\\nTraining(In-Sample): \", rmse_train_3, \n",
    "      \"\\nValidation(Out-of-Sample): \", rmse_validate_3)"
   ]
  },
  {
   "cell_type": "markdown",
   "id": "e1d97daa-3aeb-48d2-9656-51562d482ec4",
   "metadata": {},
   "source": [
    "### Lasso Lars"
   ]
  },
  {
   "cell_type": "code",
   "execution_count": 39,
   "id": "16a0bf36-d203-4283-8077-70c4572c2ac5",
   "metadata": {
    "tags": []
   },
   "outputs": [
    {
     "name": "stdout",
     "output_type": "stream",
     "text": [
      "RMSE for Lasso + Lars\n",
      "Training(In-Sample):  219292.4882450899 \n",
      "Validation(Out-of-Sample):  220904.9676822525\n"
     ]
    }
   ],
   "source": [
    "# create the model object \n",
    "lars = LassoLars(alpha=1.0)\n",
    "\n",
    "# fit the model \n",
    "lars.fit(X_train_scaled[['area','bedrooms','bathrooms','year_built']], y_train.taxable_value)\n",
    "\n",
    "# predict train\n",
    "y_train['taxable_value_pred_lars'] = lars.predict(X_train_scaled[['area','bedrooms','bathrooms','year_built']])\n",
    "\n",
    "# evaluate: rmse_train\n",
    "rmse_train = mean_squared_error(y_train.taxable_value, y_train.taxable_value_pred_lars)**(1/2)\n",
    "\n",
    "# predict validate\n",
    "y_validate['taxable_value_pred_lars'] = lars.predict(X_validate_scaled[['area','bedrooms','bathrooms','year_built']])\n",
    "\n",
    "# evaluate: rmse_validate\n",
    "rmse_validate = mean_squared_error(y_validate.taxable_value, y_validate.taxable_value_pred_lars)**(1/2)\n",
    "\n",
    "print(\"RMSE for Lasso + Lars\\nTraining(In-Sample): \", rmse_train, \n",
    "      \"\\nValidation(Out-of-Sample): \", rmse_validate)"
   ]
  },
  {
   "cell_type": "code",
   "execution_count": 40,
   "id": "bbec525a-a36c-4797-8ece-bd552e6b17d4",
   "metadata": {
    "tags": []
   },
   "outputs": [
    {
     "name": "stdout",
     "output_type": "stream",
     "text": [
      "RMSE for Lasso + Lars\n",
      "Training(In-Sample):  219898.91922751194 \n",
      "Validation(Out-of-Sample):  221532.65713535296\n"
     ]
    }
   ],
   "source": [
    "# create the model object \n",
    "lars2 = LassoLars(alpha=1.0)\n",
    "\n",
    "# fit the model \n",
    "lars2.fit(X_train_scaled[['area','bed_to_bath_ratio','house_age_2017']], y_train.taxable_value)\n",
    "\n",
    "# predict train\n",
    "y_train['taxable_value_pred_lars2'] = lars2.predict(X_train_scaled[['area','bed_to_bath_ratio','house_age_2017']])\n",
    "\n",
    "# evaluate: rmse\n",
    "rmse_train_2 = mean_squared_error(y_train.taxable_value, y_train.taxable_value_pred_lars2)**(1/2)\n",
    "\n",
    "# predict validate\n",
    "y_validate['taxable_value_pred_lars2'] = lars2.predict(X_validate_scaled[['area','bed_to_bath_ratio','house_age_2017']])\n",
    "\n",
    "# evaluate: rmse\n",
    "rmse_validate_2 = mean_squared_error(y_validate.taxable_value, y_validate.taxable_value_pred_lars2)**(1/2)\n",
    "\n",
    "print(\"RMSE for Lasso + Lars\\nTraining(In-Sample): \", rmse_train_2, \n",
    "      \"\\nValidation(Out-of-Sample): \", rmse_validate_2)"
   ]
  },
  {
   "cell_type": "code",
   "execution_count": 41,
   "id": "3f914c51-59ac-45a6-b15b-a0df9b867163",
   "metadata": {
    "tags": []
   },
   "outputs": [
    {
     "name": "stdout",
     "output_type": "stream",
     "text": [
      "RMSE for Lasso + Lars\n",
      "Training(In-Sample):  219898.91922751194 \n",
      "Validation(Out-of-Sample):  221532.65713535296\n"
     ]
    }
   ],
   "source": [
    "# create the model object \n",
    "lars3 = LassoLars(alpha=1.0)\n",
    "\n",
    "# fit the model \n",
    "lars3.fit(X_train_scaled[['area','bed_to_bath_ratio','house_age_2017']], y_train.taxable_value)\n",
    "\n",
    "# predict train\n",
    "y_train['taxable_value_pred_lars3'] = lars3.predict(X_train_scaled[['area','bed_to_bath_ratio','house_age_2017']])\n",
    "\n",
    "# evaluate: rmse_train_3\n",
    "rmse_train_3 = mean_squared_error(y_train.taxable_value, y_train.taxable_value_pred_lars3)**(1/2)\n",
    "\n",
    "# predict validate\n",
    "y_validate['taxable_value_pred_lars3'] = lars3.predict(X_validate_scaled[['area','bed_to_bath_ratio','house_age_2017']])\n",
    "\n",
    "# evaluate: rmse_validate_3\n",
    "rmse_validate_3 = mean_squared_error(y_validate.taxable_value, y_validate.taxable_value_pred_lars3)**(1/2)\n",
    "\n",
    "print(\"RMSE for Lasso + Lars\\nTraining(In-Sample): \", rmse_train_3, \n",
    "      \"\\nValidation(Out-of-Sample): \", rmse_validate_3)"
   ]
  },
  {
   "cell_type": "markdown",
   "id": "2a4d2a3d-1ad9-42c8-96da-856144ae50a3",
   "metadata": {},
   "source": [
    "### Tweedie Regressor (Generalized Linear Model)"
   ]
  },
  {
   "cell_type": "code",
   "execution_count": 42,
   "id": "2609ad07-2fbd-4ecf-b92a-3a6a8b4963d4",
   "metadata": {
    "tags": []
   },
   "outputs": [
    {
     "name": "stdout",
     "output_type": "stream",
     "text": [
      "RMSE for GLM using Tweedie\n",
      "Training(In-Sample):  219444.48193185162 \n",
      "Validation(Out-of-Sample):  221428.18076557652\n"
     ]
    }
   ],
   "source": [
    "# create the model object\n",
    "glm = TweedieRegressor(power=1, alpha=0) \n",
    "\n",
    "# fit the model\n",
    "glm.fit(X_train_scaled[['area','bedrooms','bathrooms','year_built']], y_train.taxable_value)\n",
    "\n",
    "# predict train\n",
    "y_train['taxable_value_pred_glm'] = glm.predict(X_train_scaled[['area','bedrooms','bathrooms','year_built']])\n",
    "\n",
    "# evaluate: rmse_train\n",
    "rmse_train = mean_squared_error(y_train.taxable_value, y_train.taxable_value_pred_glm)**(1/2)\n",
    "\n",
    "# predict validate\n",
    "y_validate['taxable_value_pred_glm'] = glm.predict(X_validate_scaled[['area','bedrooms','bathrooms','year_built']])\n",
    "\n",
    "# evaluate: rmse_validate\n",
    "rmse_validate = mean_squared_error(y_validate.taxable_value, y_validate.taxable_value_pred_glm)**(1/2)\n",
    "\n",
    "print(\"RMSE for GLM using Tweedie\\nTraining(In-Sample): \", rmse_train, \n",
    "      \"\\nValidation(Out-of-Sample): \", rmse_validate)"
   ]
  },
  {
   "cell_type": "code",
   "execution_count": 43,
   "id": "11abf1dd-051b-4d10-bb06-03510d26b8ef",
   "metadata": {
    "tags": []
   },
   "outputs": [
    {
     "name": "stdout",
     "output_type": "stream",
     "text": [
      "RMSE for GLM using Tweedie\n",
      "Training(In-Sample):  219497.92327972697 \n",
      "Validation(Out-of-Sample):  221441.94460881656\n"
     ]
    }
   ],
   "source": [
    "# create the model object\n",
    "glm2 = TweedieRegressor(power=1, alpha=0)\n",
    "\n",
    "# fit the model\n",
    "glm2.fit(X_train_scaled[['area','bed_to_bath_ratio','house_age_2017']], y_train.taxable_value)\n",
    "\n",
    "# predict train\n",
    "y_train['taxable_value_pred_glm2'] = glm2.predict(X_train_scaled[['area','bed_to_bath_ratio','house_age_2017']])\n",
    "\n",
    "# evaluate: rmse_train\n",
    "rmse_train_2 = mean_squared_error(y_train.taxable_value, y_train.taxable_value_pred_glm2)**(1/2)\n",
    "\n",
    "# predict validate\n",
    "y_validate['taxable_value_pred_glm2'] = glm2.predict(X_validate_scaled[['area','bed_to_bath_ratio','house_age_2017']])\n",
    "\n",
    "# evaluate: rmse_validate\n",
    "rmse_validate_2 = mean_squared_error(y_validate.taxable_value, y_validate.taxable_value_pred_glm2)**(1/2)\n",
    "\n",
    "print(\"RMSE for GLM using Tweedie\\nTraining(In-Sample): \", rmse_train_2, \n",
    "      \"\\nValidation(Out-of-Sample): \", rmse_validate_2)"
   ]
  },
  {
   "cell_type": "code",
   "execution_count": 44,
   "id": "1de5087e-e5fe-4f92-9271-0c641fac4826",
   "metadata": {
    "tags": []
   },
   "outputs": [
    {
     "name": "stdout",
     "output_type": "stream",
     "text": [
      "RMSE for GLM using Tweedie\n",
      "Training(In-Sample):  220690.65184492467 \n",
      "Validation(Out-of-Sample):  222497.40319002882\n"
     ]
    }
   ],
   "source": [
    "# create the model object\n",
    "glm3 = TweedieRegressor(power=1, alpha=0)\n",
    "\n",
    "# fit the model\n",
    "glm3.fit(X_train_scaled[['area','year_built']], y_train.taxable_value)\n",
    "\n",
    "# predict train\n",
    "y_train['taxable_value_pred_glm3'] = glm3.predict(X_train_scaled[['area','year_built']])\n",
    "\n",
    "# evaluate: rmse_train\n",
    "rmse_train_3 = mean_squared_error(y_train.taxable_value, y_train.taxable_value_pred_glm3)**(1/2)\n",
    "\n",
    "# predict validate\n",
    "y_validate['taxable_value_pred_glm3'] = glm3.predict(X_validate_scaled[['area','year_built']])\n",
    "\n",
    "# evaluate: rmse_validate\n",
    "rmse_validate_3 = mean_squared_error(y_validate.taxable_value, y_validate.taxable_value_pred_glm3)**(1/2)\n",
    "\n",
    "print(\"RMSE for GLM using Tweedie\\nTraining(In-Sample): \", rmse_train_3, \n",
    "      \"\\nValidation(Out-of-Sample): \", rmse_validate_3)"
   ]
  },
  {
   "cell_type": "markdown",
   "id": "b18573c6-2199-4ae2-b85f-a8707ed705bd",
   "metadata": {},
   "source": [
    "### Polynomial Regression"
   ]
  },
  {
   "cell_type": "code",
   "execution_count": 45,
   "id": "f5b5e111-d23b-4a77-ab3c-90753eee8d5c",
   "metadata": {},
   "outputs": [],
   "source": [
    "# make the polynomial features \n",
    "pf = PolynomialFeatures(degree=2)\n",
    "\n",
    "# fit and transform X_train_scaled\n",
    "X_train_degree2 = pf.fit_transform(X_train_scaled[['area','bedrooms','bathrooms','year_built']])\n",
    "\n",
    "# transform X_validate_scaled & X_test_scaled\n",
    "X_validate_degree2 = pf.transform(X_validate_scaled[['area','bedrooms','bathrooms','year_built']])\n",
    "X_test_degree2 = pf.transform(X_test_scaled[['area','bedrooms','bathrooms','year_built']])"
   ]
  },
  {
   "cell_type": "code",
   "execution_count": 46,
   "id": "6a064793-dd92-460b-adc5-d4c4f0df429c",
   "metadata": {},
   "outputs": [
    {
     "name": "stdout",
     "output_type": "stream",
     "text": [
      "RMSE for Polynomial Model, degrees=2\n",
      "Training(In-Sample):  218289.83036623642 \n",
      "Validation(Out-of-Sample):  220025.56808972612\n"
     ]
    }
   ],
   "source": [
    "# create the model\n",
    "plm = LinearRegression(normalize=True)\n",
    "\n",
    "# fit the model\n",
    "plm.fit(X_train_degree2, y_train.taxable_value)\n",
    "\n",
    "# predict train\n",
    "y_train['taxable_value_pred_plm'] = plm.predict(X_train_degree2)\n",
    "\n",
    "# evaluate: rmse\n",
    "rmse_train = mean_squared_error(y_train.taxable_value, y_train.taxable_value_pred_plm)**(1/2)\n",
    "\n",
    "# predict validate\n",
    "y_validate['taxable_value_pred_plm'] = plm.predict(X_validate_degree2)\n",
    "\n",
    "# evaluate: rmse\n",
    "rmse_validate = mean_squared_error(y_validate.taxable_value, y_validate.taxable_value_pred_plm)**(1/2)\n",
    "\n",
    "print(\"RMSE for Polynomial Model, degrees=2\\nTraining(In-Sample): \", rmse_train, \n",
    "      \"\\nValidation(Out-of-Sample): \", rmse_validate)"
   ]
  },
  {
   "cell_type": "code",
   "execution_count": 51,
   "id": "6ee63fa7-be70-4254-b2e8-9ca47d7343f3",
   "metadata": {},
   "outputs": [
    {
     "name": "stdout",
     "output_type": "stream",
     "text": [
      "RMSE for Polynomial Model, degrees=2\n",
      "Test(Out-of-Sample):  218904.64295019858\n"
     ]
    }
   ],
   "source": [
    "y_test_scaled = pd.DataFrame(y_test)\n",
    "\n",
    "# predict on test\n",
    "y_test['taxable_value_pred_plm'] = plm.predict(X_test_degree2)\n",
    "\n",
    "# evaluate: rmse\n",
    "rmse_test = mean_squared_error(y_test.taxable_value, y_test.taxable_value_pred_plm)**(1/2)\n",
    "\n",
    "print(\"RMSE for Polynomial Model, degrees=2\\nTest(Out-of-Sample): \", rmse_test)\n"
   ]
  },
  {
   "cell_type": "code",
   "execution_count": null,
   "id": "42684f92-ec5e-44e6-a6af-1f44c4d6b7c7",
   "metadata": {},
   "outputs": [],
   "source": []
  }
 ],
 "metadata": {
  "kernelspec": {
   "display_name": "Python 3 (ipykernel)",
   "language": "python",
   "name": "python3"
  },
  "language_info": {
   "codemirror_mode": {
    "name": "ipython",
    "version": 3
   },
   "file_extension": ".py",
   "mimetype": "text/x-python",
   "name": "python",
   "nbconvert_exporter": "python",
   "pygments_lexer": "ipython3",
   "version": "3.9.7"
  }
 },
 "nbformat": 4,
 "nbformat_minor": 5
}
