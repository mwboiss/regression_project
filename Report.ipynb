{
 "cells": [
  {
   "cell_type": "markdown",
   "id": "22d94e13-ea95-40cd-ae4d-0123a5ea2c24",
   "metadata": {},
   "source": [
    "# Zillow Predictions"
   ]
  },
  {
   "cell_type": "markdown",
   "id": "575c24f6-1e26-434d-b570-2b4002f6ed16",
   "metadata": {},
   "source": [
    "by Mathias Boissevain 2022-03-30"
   ]
  },
  {
   "cell_type": "markdown",
   "id": "55950ecf-45d7-441f-9ca9-e2fe686e59d5",
   "metadata": {},
   "source": [
    "## Project Goal"
   ]
  },
  {
   "cell_type": "markdown",
   "id": "1fae4baa-2cfb-4838-833a-a4ccaa65afcf",
   "metadata": {},
   "source": []
  },
  {
   "cell_type": "markdown",
   "id": "7dbcc308-a386-4f92-9749-d96f4ed0baac",
   "metadata": {},
   "source": [
    "## Project Description"
   ]
  },
  {
   "cell_type": "markdown",
   "id": "2807fbc9-e7a4-4b42-a237-a236d63a2e2c",
   "metadata": {},
   "source": []
  },
  {
   "cell_type": "markdown",
   "id": "0beffba8-2883-4227-9ec0-dee17d59335c",
   "metadata": {},
   "source": [
    "## Intial Questions"
   ]
  },
  {
   "cell_type": "code",
   "execution_count": null,
   "id": "d9d03511-540e-459a-a5f6-1f69627507a4",
   "metadata": {},
   "outputs": [],
   "source": []
  },
  {
   "cell_type": "markdown",
   "id": "9837aaee-7f18-492a-b931-ccc768119537",
   "metadata": {},
   "source": [
    "# Data Dictionary"
   ]
  },
  {
   "cell_type": "markdown",
   "id": "d43de5e7-012c-434f-8e2b-2f60e9176e45",
   "metadata": {},
   "source": [
    "\n",
    "Variable | Meaning |\n",
    ":-: | :-- |\n",
    "'airconditioningtypeid'|Type of cooling system present in the home (if any)\n",
    "'architecturalstyletypeid'|Architectural style of the home (i.e. ranch, colonial, split-level, etc…)\n",
    "'basementsqft'|Finished living area below or partially below ground level\n",
    "'bathroomcnt'|Number of bathrooms in home including fractional bathrooms\n",
    "'bedroomcnt'|Number of bedrooms in home \n",
    "'buildingqualitytypeid'|Overall assessment of condition of the building from best (lowest) to worst (highest)\n",
    "'buildingclasstypeid'|The building framing type (steel frame, wood frame, concrete/brick) \n",
    "'calculatedbathnbr'|Number of bathrooms in home including fractional bathroom\n",
    "'decktypeid'|Type of deck (if any) present on parcel\n",
    "'threequarterbathnbr'|Number of 3/4 bathrooms in house (shower + sink + toilet)\n",
    "'finishedfloor1squarefeet'|Size of the finished living area on the first (entry) floor of the home\n",
    "'calculatedfinishedsquarefeet'|Calculated total finished living area of the home \n",
    "'finishedsquarefeet6'|Base unfinished and finished area\n",
    "'finishedsquarefeet12'|Finished living area\n",
    "'finishedsquarefeet13'|Perimeter  living area\n",
    "'finishedsquarefeet15'|Total area\n",
    "'finishedsquarefeet50'| Size of the finished living area on the first (entry) floor of the home\n",
    "'fips'|Federal Information Processing Standard code -  see https://en.wikipedia.org/wiki/FIPS_county_code for more details\n",
    "'fireplacecnt'|Number of fireplaces in a home (if any)\n",
    "'fireplaceflag'|Is a fireplace present in this home \n",
    "'fullbathcnt'|Number of full bathrooms (sink, shower + bathtub, and toilet) present in home\n",
    "'garagecarcnt'|Total number of garages on the lot including an attached garage\n",
    "'garagetotalsqft'|Total number of square feet of all garages on lot including an attached garage\n",
    "'hashottuborspa'|Does the home have a hot tub or spa\n",
    "'heatingorsystemtypeid'|Type of home heating system\n",
    "'latitude'|Latitude of the middle of the parcel multiplied by 10e6\n",
    "'logerror'|log(Zestimate)−log(SalePrice)\n",
    "'longitude'|Longitude of the middle of the parcel multiplied by 10e6\n",
    "'lotsizesquarefeet'|Area of the lot in square feet\n",
    "'numberofstories'|Number of stories or levels the home has\n",
    "'parcelid'|Unique identifier for parcels (lots) \n",
    "'poolcnt'|Number of pools on the lot (if any)\n",
    "'poolsizesum'|Total square footage of all pools on property\n",
    "'pooltypeid10'|Spa or Hot Tub\n",
    "'pooltypeid2'|Pool with Spa/Hot Tub\n",
    "'pooltypeid7'|Pool without hot tub\n",
    "'propertycountylandusecode'|County land use code i.e. it's zoning at the county level\n",
    "'propertylandusetypeid'|Type of land use the property is zoned for\n",
    "'propertyzoningdesc'|Description of the allowed land uses (zoning) for that property\n",
    "'rawcensustractandblock'|Census tract and block ID combined - also contains blockgroup assignment by extension\n",
    "'censustractandblock'|Census tract and block ID combined - also contains blockgroup assignment by extension\n",
    "'regionidcounty'|County in which the property is located\n",
    "'regionidcity'|City in which the property is located (if any)\n",
    "'regionidzip'|Zip code in which the property is located\n",
    "'regionidneighborhood'|Neighborhood in which the property is located\n",
    "'roomcnt'|Total number of rooms in the principal residence\n",
    "'storytypeid'|Type of floors in a multi-story house (i.e. basement and main level, split-level, attic, etc.).  See tab for details.\n",
    "'typeconstructiontypeid'|What type of construction material was used to construct the home\n",
    "'unitcnt'|Number of units the structure is built into (i.e. 2 = duplex, 3 = triplex, etc...)\n",
    "'yardbuildingsqft17'|Patio in  yard\n",
    "'yardbuildingsqft26'|Storage shed/building in yard\n",
    "'yearbuilt'|The Year the principal residence was built \n",
    "'taxvaluedollarcnt'|The total tax assessed value of the parcel\n",
    "'structuretaxvaluedollarcnt'|The assessed value of the built structure on the parcel\n",
    "'landtaxvaluedollarcnt'|The assessed value of the land area of the parcel\n",
    "'taxamount'|The total property tax assessed for that assessment year\n",
    "'assessmentyear'|The year of the property tax assessment \n",
    "'taxdelinquencyflag'|Property taxes for this parcel are past due as of 2015\n",
    "'taxdelinquencyyear'|Year for which the unpaid propert taxes were due "
   ]
  },
  {
   "cell_type": "markdown",
   "id": "190fbd4a-9890-43d9-8a7f-e0e7cfe58025",
   "metadata": {},
   "source": [
    "## Wrangle"
   ]
  },
  {
   "cell_type": "code",
   "execution_count": null,
   "id": "0bbb08bb-830d-479f-98fe-dc6dd49e651b",
   "metadata": {},
   "outputs": [],
   "source": []
  },
  {
   "cell_type": "code",
   "execution_count": null,
   "id": "0cca8e42-1bed-4302-a30a-f8425f772d5e",
   "metadata": {},
   "outputs": [],
   "source": []
  },
  {
   "cell_type": "code",
   "execution_count": null,
   "id": "9790d98d-d743-4103-8c25-d90757e1162d",
   "metadata": {},
   "outputs": [],
   "source": []
  },
  {
   "cell_type": "code",
   "execution_count": null,
   "id": "d288c012-c734-4456-a232-bfaf0614979c",
   "metadata": {},
   "outputs": [],
   "source": []
  },
  {
   "cell_type": "code",
   "execution_count": null,
   "id": "e16f24d0-0ec6-4e67-ba64-7b43dd84ebcc",
   "metadata": {},
   "outputs": [],
   "source": []
  },
  {
   "cell_type": "code",
   "execution_count": null,
   "id": "748a171f-1b62-4652-b52f-cec42791c137",
   "metadata": {},
   "outputs": [],
   "source": []
  },
  {
   "cell_type": "code",
   "execution_count": null,
   "id": "cfaeb396-a019-4206-98a4-b13cbe0b99f4",
   "metadata": {},
   "outputs": [],
   "source": []
  },
  {
   "cell_type": "code",
   "execution_count": null,
   "id": "18cb2467-8184-4c01-a3ab-efcfc5803096",
   "metadata": {},
   "outputs": [],
   "source": []
  },
  {
   "cell_type": "code",
   "execution_count": null,
   "id": "ffcb9602-af23-4019-b209-fbc9f7e77051",
   "metadata": {},
   "outputs": [],
   "source": []
  },
  {
   "cell_type": "code",
   "execution_count": null,
   "id": "afd3bc1e-f16a-4686-bff3-b297e3e99d2e",
   "metadata": {},
   "outputs": [],
   "source": []
  },
  {
   "cell_type": "code",
   "execution_count": null,
   "id": "17dd6dbb-9e2a-4717-814c-8e2d91a63dff",
   "metadata": {},
   "outputs": [],
   "source": []
  },
  {
   "cell_type": "code",
   "execution_count": null,
   "id": "ded14c95-a592-4082-b97a-c7e541d70429",
   "metadata": {},
   "outputs": [],
   "source": []
  },
  {
   "cell_type": "code",
   "execution_count": null,
   "id": "f45b28db-e1ed-4087-a687-f4fc7bb56829",
   "metadata": {},
   "outputs": [],
   "source": []
  },
  {
   "cell_type": "code",
   "execution_count": null,
   "id": "62cc7cf7-bb2d-4004-bab0-4a60718644de",
   "metadata": {},
   "outputs": [],
   "source": []
  },
  {
   "cell_type": "code",
   "execution_count": null,
   "id": "3d1809d0-ecad-4c01-88b9-a33398fc97f3",
   "metadata": {},
   "outputs": [],
   "source": []
  },
  {
   "cell_type": "code",
   "execution_count": null,
   "id": "f7644b45-f64a-4b63-8ca1-bc893ffd7282",
   "metadata": {},
   "outputs": [],
   "source": []
  },
  {
   "cell_type": "code",
   "execution_count": null,
   "id": "b4c2f73d-bb1b-432e-8f51-d1c0baeebf3d",
   "metadata": {},
   "outputs": [],
   "source": []
  },
  {
   "cell_type": "code",
   "execution_count": null,
   "id": "549a85d1-1215-4758-872a-2048eb059e94",
   "metadata": {},
   "outputs": [],
   "source": []
  },
  {
   "cell_type": "code",
   "execution_count": null,
   "id": "d6a50447-521e-452b-910b-4957a95bdad4",
   "metadata": {},
   "outputs": [],
   "source": []
  },
  {
   "cell_type": "code",
   "execution_count": null,
   "id": "c22690a0-c4e4-44e7-b193-3b9da61d7860",
   "metadata": {},
   "outputs": [],
   "source": []
  },
  {
   "cell_type": "code",
   "execution_count": null,
   "id": "36b4e864-ffec-4f20-b077-c2d94753244a",
   "metadata": {},
   "outputs": [],
   "source": []
  }
 ],
 "metadata": {
  "kernelspec": {
   "display_name": "Python 3 (ipykernel)",
   "language": "python",
   "name": "python3"
  },
  "language_info": {
   "codemirror_mode": {
    "name": "ipython",
    "version": 3
   },
   "file_extension": ".py",
   "mimetype": "text/x-python",
   "name": "python",
   "nbconvert_exporter": "python",
   "pygments_lexer": "ipython3",
   "version": "3.9.7"
  }
 },
 "nbformat": 4,
 "nbformat_minor": 5
}
